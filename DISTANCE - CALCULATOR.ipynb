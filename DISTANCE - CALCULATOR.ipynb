{
 "cells": [
  {
   "cell_type": "markdown",
   "metadata": {},
   "source": [
    "CALCULATOR - DISTANCE"
   ]
  },
  {
   "cell_type": "code",
   "execution_count": 7,
   "metadata": {},
   "outputs": [
    {
     "name": "stdout",
     "output_type": "stream",
     "text": [
      "35.859375\n",
      "Toyota,Severely Far-Extremely Far\n"
     ]
    }
   ],
   "source": [
    "name=input(\"please input your name here:\")\n",
    "Length=int(input(\"please input your Length here:\"))\n",
    "Width=int(input(\"please input your Width here:\"))\n",
    "\n",
    "DSC = (Length*765)/((Length*(Width*Width))/Length)\n",
    "\n",
    "print(DSC)\n",
    "\n",
    "if DSC>0:\n",
    "    if (DSC<15.5):\n",
    "        print(name+\", Too short-minimal\")\n",
    "    elif(DSC<19.9):\n",
    "        print(name+\",Normal Lenth-Just Okay\")\n",
    "    elif(DSC<24.9):\n",
    "        print(name+\",A bit Long-Normal\")\n",
    "    elif(DSC<29.9):\n",
    "        print(name+\",Long-Far\")\n",
    "    elif(DSC<34.9):\n",
    "        print(name+\",very Far-Very Far\")\n",
    "    elif(DSC<39.9): \n",
    "        print(name+\",Severely Far-Extremely Far\") \n",
    "    else:\n",
    "        print(name+\",I'm not doing again-Follow public transport\")\n",
    "else:\n",
    "    print(name+\",Need rest\") \n",
    "\n"
   ]
  },
  {
   "cell_type": "code",
   "execution_count": null,
   "metadata": {},
   "outputs": [],
   "source": []
  }
 ],
 "metadata": {
  "kernelspec": {
   "display_name": "base",
   "language": "python",
   "name": "python3"
  },
  "language_info": {
   "codemirror_mode": {
    "name": "ipython",
    "version": 3
   },
   "file_extension": ".py",
   "mimetype": "text/x-python",
   "name": "python",
   "nbconvert_exporter": "python",
   "pygments_lexer": "ipython3",
   "version": "3.11.5"
  }
 },
 "nbformat": 4,
 "nbformat_minor": 2
}
