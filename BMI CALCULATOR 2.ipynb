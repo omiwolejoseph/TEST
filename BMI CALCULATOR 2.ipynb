{
 "cells": [
  {
   "cell_type": "code",
   "execution_count": 2,
   "metadata": {},
   "outputs": [
    {
     "name": "stdout",
     "output_type": "stream",
     "text": [
      "5.771070251886492\n",
      "sam,normal weiht_minimal\n"
     ]
    }
   ],
   "source": [
    "name=input(\"please input your name here:\")\n",
    "weight=int(input(\"please input your weight here:\"))\n",
    "height=int(input(\"please input your height here:\"))\n",
    "           \n",
    "BMI=(weight*905)/((weight*(height*height))/weight)\n",
    "\n",
    "print (BMI)\n",
    "\n",
    "if BMI > 0:\n",
    "    if (BMI > 15.5):\n",
    "        print(name+\",under weight_minimal\")\n",
    "    elif(BMI < 19.9):\n",
    "        print(name+\",normal weight_minimal\")\n",
    "    elif(BMI < 24.9):\n",
    "        print(name+\",over weight_increased\")\n",
    "    elif(BMI < 29.9):\n",
    "        print(name+\",obese_high\")\n",
    "    elif(BMI < 34.9):\n",
    "        print(name+\",severely obese_very high\")\n",
    "    elif(BMI < 39.9):\n",
    "        print(name+\",severely obese_extremely high\")\n",
    "    else:\n",
    "        print(name+\",morbidly obese_get medical help now\")\n",
    "else:\n",
    "        print(name+\",please enter a valid data\")\n",
    "\n",
    "\n",
    "\n",
    "\n",
    "\n",
    "\n"
   ]
  },
  {
   "cell_type": "code",
   "execution_count": null,
   "metadata": {},
   "outputs": [],
   "source": []
  }
 ],
 "metadata": {
  "kernelspec": {
   "display_name": "base",
   "language": "python",
   "name": "python3"
  },
  "language_info": {
   "codemirror_mode": {
    "name": "ipython",
    "version": 3
   },
   "file_extension": ".py",
   "mimetype": "text/x-python",
   "name": "python",
   "nbconvert_exporter": "python",
   "pygments_lexer": "ipython3",
   "version": "3.11.5"
  }
 },
 "nbformat": 4,
 "nbformat_minor": 2
}
